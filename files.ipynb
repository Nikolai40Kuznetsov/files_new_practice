{
 "cells": [
  {
   "cell_type": "code",
   "execution_count": 11,
   "metadata": {},
   "outputs": [
    {
     "name": "stdout",
     "output_type": "stream",
     "text": [
      "9\n",
      "Тренболон колю в очко\n",
      "Чтобы стать большим качком\n",
      "В дверной проём вхожу бочком\n",
      "Люблю печеньки с молочком \n",
      "\n",
      "Въебал с утра тестостерон\n",
      "Поднял на бицепс пару тонн\n",
      "Похавал гречку с творожком\n",
      "Да я ебал ваш рацион\n"
     ]
    }
   ],
   "source": [
    "import docx\n",
    "doc = docx.Document(\"Песня.docx\")\n",
    "print(len(doc.paragraphs))\n",
    "for i in range(0, len(doc.paragraphs)):\n",
    "    print(doc.paragraphs[i].text)"
   ]
  }
 ],
 "metadata": {
  "kernelspec": {
   "display_name": "Python 3",
   "language": "python",
   "name": "python3"
  },
  "language_info": {
   "codemirror_mode": {
    "name": "ipython",
    "version": 3
   },
   "file_extension": ".py",
   "mimetype": "text/x-python",
   "name": "python",
   "nbconvert_exporter": "python",
   "pygments_lexer": "ipython3",
   "version": "3.12.3"
  }
 },
 "nbformat": 4,
 "nbformat_minor": 2
}
